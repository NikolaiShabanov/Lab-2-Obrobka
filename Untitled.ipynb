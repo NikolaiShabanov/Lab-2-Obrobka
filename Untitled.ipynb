{
 "cells": [
  {
   "cell_type": "code",
   "execution_count": null,
   "id": "7e5b9fa2",
   "metadata": {},
   "outputs": [],
   "source": []
  },
  {
   "cell_type": "code",
   "execution_count": 1,
   "id": "0db49040",
   "metadata": {},
   "outputs": [
    {
     "name": "stdout",
     "output_type": "stream",
     "text": [
      "              Id       Name  Year Gender  Count\n",
      "0              1       Mary  1880      F   7065\n",
      "1              2       Anna  1880      F   2604\n",
      "2              3       Emma  1880      F   2003\n",
      "3              4  Elizabeth  1880      F   1939\n",
      "4              5     Minnie  1880      F   1746\n",
      "...          ...        ...   ...    ...    ...\n",
      "1825428  1825429     Zykeem  2014      M      5\n",
      "1825429  1825430     Zymeer  2014      M      5\n",
      "1825430  1825431    Zymiere  2014      M      5\n",
      "1825431  1825432      Zyran  2014      M      5\n",
      "1825432  1825433      Zyrin  2014      M      5\n",
      "\n",
      "[1825433 rows x 5 columns]\n"
     ]
    }
   ],
   "source": [
    "import numpy as np\n",
    "import pandas as pd\n",
    "import csv\n",
    "import matplotlib.pyplot as plt\n",
    "namefile = \"NationalNames.csv\"\n",
    "def function1(file):\n",
    "    df = pd.read_csv(namefile)\n",
    "    return df\n",
    "data = function1(namefile)\n",
    "print(data)"
   ]
  },
  {
   "cell_type": "code",
   "execution_count": 2,
   "id": "7a8d3876",
   "metadata": {},
   "outputs": [
    {
     "name": "stdout",
     "output_type": "stream",
     "text": [
      "   Id       Name  Year Gender  Count\n",
      "0   1       Mary  1880      F   7065\n",
      "1   2       Anna  1880      F   2604\n",
      "2   3       Emma  1880      F   2003\n",
      "3   4  Elizabeth  1880      F   1939\n",
      "4   5     Minnie  1880      F   1746\n",
      "5   6   Margaret  1880      F   1578\n",
      "6   7        Ida  1880      F   1472\n",
      "7   8      Alice  1880      F   1414\n"
     ]
    }
   ],
   "source": [
    "#1 Виведіть перші 8 рядків набору даних.\n",
    "print(data.head(8))"
   ]
  },
  {
   "cell_type": "code",
   "execution_count": 3,
   "id": "f1b25174",
   "metadata": {},
   "outputs": [
    {
     "name": "stdout",
     "output_type": "stream",
     "text": [
      "              Id     Name  Year Gender  Count\n",
      "1825425  1825426       Zo  2014      M      5\n",
      "1825426  1825427    Zyeir  2014      M      5\n",
      "1825427  1825428     Zyel  2014      M      5\n",
      "1825428  1825429   Zykeem  2014      M      5\n",
      "1825429  1825430   Zymeer  2014      M      5\n",
      "1825430  1825431  Zymiere  2014      M      5\n",
      "1825431  1825432    Zyran  2014      M      5\n",
      "1825432  1825433    Zyrin  2014      M      5\n"
     ]
    }
   ],
   "source": [
    "#2 Вивести останні 8 рядків набору даних.\n",
    "print(data.tail(8))"
   ]
  },
  {
   "cell_type": "code",
   "execution_count": 4,
   "id": "642df04e",
   "metadata": {},
   "outputs": [
    {
     "name": "stdout",
     "output_type": "stream",
     "text": [
      "['Id', 'Name', 'Year', 'Gender', 'Count']\n"
     ]
    }
   ],
   "source": [
    "#3 Отримайте імена стовпців набору даних\n",
    "print(data.columns.values.tolist())"
   ]
  },
  {
   "cell_type": "code",
   "execution_count": 5,
   "id": "b888a162",
   "metadata": {},
   "outputs": [
    {
     "name": "stdout",
     "output_type": "stream",
     "text": [
      "93889\n"
     ]
    }
   ],
   "source": [
    "#5 Знайдіть кількість унікальних імен у наборі даних\n",
    "print(data[\"Name\"].nunique ())"
   ]
  },
  {
   "cell_type": "code",
   "execution_count": 6,
   "id": "a303586b",
   "metadata": {},
   "outputs": [
    {
     "name": "stdout",
     "output_type": "stream",
     "text": [
      "Year\n",
      "1880     1889\n",
      "1881     1830\n",
      "1882     2012\n",
      "1883     1962\n",
      "1884     2158\n",
      "        ...  \n",
      "2010    31603\n",
      "2011    31418\n",
      "2012    31236\n",
      "2013    30774\n",
      "2014    30579\n",
      "Name: Name, Length: 135, dtype: int64\n"
     ]
    }
   ],
   "source": [
    "#10 Підрахуйте кількість унікальних імен у кожному році\n",
    "print(data.groupby('Year')['Name'].nunique ())"
   ]
  },
  {
   "cell_type": "code",
   "execution_count": 7,
   "id": "c4316bfc",
   "metadata": {},
   "outputs": [
    {
     "name": "stdout",
     "output_type": "stream",
     "text": [
      "Year\n",
      "2008    32488\n",
      "Name: Name, dtype: int64\n"
     ]
    }
   ],
   "source": [
    "#11 Знайдіть рік із найбільшою кількістю унікальних імен.\n",
    "a = data.groupby('Year')['Name'].nunique ()\n",
    "print(a.nlargest(1))"
   ]
  },
  {
   "cell_type": "code",
   "execution_count": 8,
   "id": "822a13f2",
   "metadata": {},
   "outputs": [
    {
     "name": "stdout",
     "output_type": "stream",
     "text": [
      "Jacob\n"
     ]
    }
   ],
   "source": [
    "#12 Знайдіть найпопулярніше ім’я в році з найбільшою кількістю унікальних імен (тобто у 2008 році)\n",
    "a = data[data['Year']==2008]\n",
    "b = a['Count'].idxmax()\n",
    "a = a.at [b, 'Name']\n",
    "print(a)"
   ]
  },
  {
   "cell_type": "code",
   "execution_count": 9,
   "id": "09309d0f",
   "metadata": {},
   "outputs": [
    {
     "name": "stdout",
     "output_type": "stream",
     "text": [
      "              Id   Name  Year Gender  Count\n",
      "1455556  1455557  Jacob  2004      F    171\n"
     ]
    }
   ],
   "source": [
    "#13 Знайдіть рік, коли ім’я “Jacob” було найпопулярнішим серед жіночих імен\n",
    "a = data[(data['Name']=='Jacob') & (data['Gender'] == 'F')]\n",
    "b = a['Count'].idxmax()\n",
    "a = data[data['Id'] == b + 1]\n",
    "print(a)"
   ]
  },
  {
   "cell_type": "code",
   "execution_count": 10,
   "id": "184d1e67",
   "metadata": {},
   "outputs": [
    {
     "name": "stdout",
     "output_type": "stream",
     "text": [
      "Year\n",
      "2008    2557\n",
      "Name: Name, dtype: int64\n"
     ]
    }
   ],
   "source": [
    "#14 Знайти рік із найбільшою кількістю гендерно нейтральних імен (однакові чоловічі та жіночі імена)\n",
    "a = data.groupby('Year')['Name'].nunique()\n",
    "b = data.groupby(['Year'])['Name'].count()\n",
    "c = b - a\n",
    "c = c.nlargest(1)\n",
    "print(c)"
   ]
  },
  {
   "cell_type": "code",
   "execution_count": 11,
   "id": "7aa73748",
   "metadata": {},
   "outputs": [
    {
     "name": "stdout",
     "output_type": "stream",
     "text": [
      "       Count\n",
      "Year        \n",
      "1880  201484\n",
      "1881  192699\n",
      "1882  221538\n",
      "1883  216950\n",
      "1884  243467\n"
     ]
    },
    {
     "name": "stderr",
     "output_type": "stream",
     "text": [
      "C:\\Users\\Koliy\\AppData\\Local\\Temp\\ipykernel_15792\\2286554464.py:2: FutureWarning: The provided callable <built-in function sum> is currently using SeriesGroupBy.sum. In a future version of pandas, the provided callable will be used directly. To keep current behavior pass the string \"sum\" instead.\n",
      "  a = data.groupby(['Year']).agg({'Count':sum})\n"
     ]
    }
   ],
   "source": [
    "#15 Знайдіть загальну кількість народжень за рік.\n",
    "a = data.groupby(['Year']).agg({'Count':sum})\n",
    "print(a.head(5))"
   ]
  },
  {
   "cell_type": "code",
   "execution_count": 12,
   "id": "aee8e379",
   "metadata": {},
   "outputs": [
    {
     "name": "stdout",
     "output_type": "stream",
     "text": [
      "        Count\n",
      "Year         \n",
      "1957  4200026\n"
     ]
    },
    {
     "name": "stderr",
     "output_type": "stream",
     "text": [
      "C:\\Users\\Koliy\\AppData\\Local\\Temp\\ipykernel_15792\\962550561.py:2: FutureWarning: The provided callable <built-in function sum> is currently using SeriesGroupBy.sum. In a future version of pandas, the provided callable will be used directly. To keep current behavior pass the string \"sum\" instead.\n",
      "  a = data.groupby(['Year']).agg({'Count':sum})\n"
     ]
    }
   ],
   "source": [
    "#16 Знайдіть рік, коли народилося найбільше дітей\n",
    "a = data.groupby(['Year']).agg({'Count':sum})\n",
    "b = a.nlargest(1, columns=['Count'])\n",
    "print(b)"
   ]
  },
  {
   "cell_type": "code",
   "execution_count": 13,
   "id": "d10457d8",
   "metadata": {
    "scrolled": true
   },
   "outputs": [
    {
     "name": "stdout",
     "output_type": "stream",
     "text": [
      "         Count        \n",
      "Gender       F       M\n",
      "Year                  \n",
      "1880     90993  110491\n",
      "1881     91954  100745\n",
      "1882    107850  113688\n",
      "1883    112321  104629\n",
      "1884    129022  114445\n"
     ]
    },
    {
     "name": "stderr",
     "output_type": "stream",
     "text": [
      "C:\\Users\\Koliy\\AppData\\Local\\Temp\\ipykernel_15792\\2205683848.py:2: FutureWarning: The provided callable <built-in function sum> is currently using SeriesGroupBy.sum. In a future version of pandas, the provided callable will be used directly. To keep current behavior pass the string \"sum\" instead.\n",
      "  a = data.groupby(['Year','Gender']).agg({'Count':sum}).unstack()\n"
     ]
    }
   ],
   "source": [
    "#17 Знайдіть кількість дівчаток та хлопчиків, які народились кожного року\n",
    "a = data.groupby(['Year','Gender']).agg({'Count':sum}).unstack()\n",
    "print(a.head(5))"
   ]
  },
  {
   "cell_type": "code",
   "execution_count": 14,
   "id": "3eb3f307",
   "metadata": {},
   "outputs": [
    {
     "name": "stdout",
     "output_type": "stream",
     "text": [
      "54\n"
     ]
    },
    {
     "name": "stderr",
     "output_type": "stream",
     "text": [
      "C:\\Users\\Koliy\\AppData\\Local\\Temp\\ipykernel_15792\\2629795849.py:2: FutureWarning: The provided callable <built-in function sum> is currently using SeriesGroupBy.sum. In a future version of pandas, the provided callable will be used directly. To keep current behavior pass the string \"sum\" instead.\n",
      "  a = data.groupby(['Year','Gender']).agg({'Count':sum}).unstack()\n"
     ]
    }
   ],
   "source": [
    "#18 Підрахуйте кількість років, коли дівчаток народжувалось більше, ніж хлопчиків.\n",
    "a = data.groupby(['Year','Gender']).agg({'Count':sum}).unstack()\n",
    "a = a['Count']\n",
    "a['Birth'] = (a['F']-a['M'])>0\n",
    "a = len(a[a['Birth']==True])\n",
    "print(a)"
   ]
  },
  {
   "cell_type": "code",
   "execution_count": 15,
   "id": "d753a51f",
   "metadata": {},
   "outputs": [
    {
     "name": "stdout",
     "output_type": "stream",
     "text": [
      "4139\n"
     ]
    }
   ],
   "source": [
    "#21 Порахуйте, скільки разів хлопчиків називали Barbara\n",
    "a = data[(data['Name']=='Barbara') & (data['Gender'] == 'M')]\n",
    "a = a['Count'].sum()\n",
    "print(a)"
   ]
  },
  {
   "cell_type": "code",
   "execution_count": 16,
   "id": "6cdc5f42",
   "metadata": {},
   "outputs": [
    {
     "name": "stdout",
     "output_type": "stream",
     "text": [
      "Спостереження проводилось 135 років\n"
     ]
    }
   ],
   "source": [
    "#22 Підрахуйте скільки років проводилось спостереження\n",
    "a = data.at [0,'Year']\n",
    "count_strok = data.shape [0]\n",
    "b = data.at [count_strok-1,'Year']\n",
    "print(f'Спостереження проводилось {(b - a) + 1} років')"
   ]
  },
  {
   "cell_type": "code",
   "execution_count": 17,
   "id": "5c433056",
   "metadata": {},
   "outputs": [
    {
     "name": "stdout",
     "output_type": "stream",
     "text": [
      "0     William\n",
      "1      Robert\n",
      "2       Ollie\n",
      "3      Marion\n",
      "4       Jesse\n",
      "5      Leslie\n",
      "6     Johnnie\n",
      "7      Tommie\n",
      "8      Joseph\n",
      "9      Jessie\n",
      "10    Francis\n",
      "11       Jean\n",
      "12        Lee\n",
      "13     Sidney\n",
      "14       John\n",
      "15      James\n",
      "Name: Name, dtype: object\n"
     ]
    }
   ],
   "source": [
    "#23 Знати найпопулярніші гендерно-нейтральні імена (ті, що присутні кожного року)\n",
    "first_Year = data.at [0,'Year']\n",
    "count_strok = data.shape [0]\n",
    "last_Year= data.at [count_strok - 1,'Year']\n",
    "counts_Year = (last_Year - first_Year) + 1\n",
    "counts = counts_Year*2\n",
    "a = data['Name'].value_counts().reset_index()\n",
    "a = a[a['count']==counts]\n",
    "print(a['Name'])"
   ]
  },
  {
   "cell_type": "code",
   "execution_count": 24,
   "id": "93f416fe",
   "metadata": {},
   "outputs": [
    {
     "name": "stdout",
     "output_type": "stream",
     "text": [
      "0    64\n",
      "Name: count, dtype: int64\n",
      "Наиболее популярное имя из непопулярных имен - это Celester. Им назвали 401 людей\n"
     ]
    }
   ],
   "source": [
    "#24 Знайти найпопулярніше серед непопулярних імен (непопулярне ім’я, яким називали дітей найбільшу кількість разів )\n",
    "a = data[data['Count']==5]\n",
    "a = a['Name'].value_counts().reset_index()\n",
    "name = a.at [0, 'Name']\n",
    "b = data[data['Name']==name]\n",
    "count = b['Count'].sum()\n",
    "#count1 =  data[data['Name']==name]\n",
    "#count1 = count1['Name'].value_counts().reset_index()\n",
    "#print(count1['count'])\n",
    "print(f'Наиболее популярное имя из непопулярных имен - это {name}. Им назвали {count} людей')"
   ]
  },
  {
   "cell_type": "code",
   "execution_count": 158,
   "id": "e5030622",
   "metadata": {},
   "outputs": [
    {
     "data": {
      "image/png": "[encoded data removed]",
      "text/plain": [
       "<Figure size 640x480 with 1 Axes>"
      ]
     },
     "metadata": {},
     "output_type": "display_data"
    }
   ],
   "source": [
    "#26 Побудувати графіки розподілення кількості жіночих імен John та чоловічих імен Mary по роках.\n",
    "a = data[(data['Name']=='John') & (data['Gender'] == 'F')]\n",
    "b = data[(data['Name']=='Mary') & (data['Gender'] == 'M')]\n",
    "fig1 = plt.figure()\n",
    "plt.plot(a['Year'], a['Count'], label=\"John\")\n",
    "plt.figure(fig1)\n",
    "plt.plot(b['Year'], b['Count'], label=\"Mary\")\n",
    "plt.xlabel('Year')\n",
    "plt.legend(title='Name')\n",
    "plt.show()"
   ]
  },
  {
   "cell_type": "code",
   "execution_count": null,
   "id": "6768edb1",
   "metadata": {},
   "outputs": [],
   "source": []
  }
 ],
 "metadata": {
  "kernelspec": {
   "display_name": "Python 3 (ipykernel)",
   "language": "python",
   "name": "python3"
  },
  "language_info": {
   "codemirror_mode": {
    "name": "ipython",
    "version": 3
   },
   "file_extension": ".py",
   "mimetype": "text/x-python",
   "name": "python",
   "nbconvert_exporter": "python",
   "pygments_lexer": "ipython3",
   "version": "3.11.2"
  }
 },
 "nbformat": 4,
 "nbformat_minor": 5
}
